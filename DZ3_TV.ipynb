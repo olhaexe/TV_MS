{
 "cells": [
  {
   "cell_type": "markdown",
   "metadata": {},
   "source": [
    "# Урок 3\n",
    "Описательная статистика. Качественные и количественные характеристики популяции. Графическое представление данных\n",
    "Домашнее задание"
   ]
  },
  {
   "cell_type": "markdown",
   "metadata": {},
   "source": [
    "Задача 1\n",
    "\n",
    "Даны значения зарплат из выборки выпускников:\n",
    "\n",
    "100, 80, 75, 77, 89, 33, 45, 25, 65, 17, 30, 230, 24, 57, 55, 70, 75, 65, 84, 90, 150\n",
    "\n",
    "Используя только встроенные питоновские функции и структуры данных (т.е. без библиотек numpy, pandas и др.) посчитать среднее арифметическое, смещённую и несмещённую оценки дисперсии, среднее квадратичное отклонение для данной выборки.\n",
    "\n",
    "Можно затем посчитать те же значения с использованием библиотек, чтобы проверить себя."
   ]
  },
  {
   "cell_type": "code",
   "execution_count": 1,
   "metadata": {},
   "outputs": [],
   "source": [
    "wages = [100, 80, 75, 77, 89, 33, 45, 25, 65, 17, 30, 230, 24, 57, 55, 70, 75, 65, 84, 90, 150]"
   ]
  },
  {
   "cell_type": "code",
   "execution_count": 2,
   "metadata": {},
   "outputs": [
    {
     "name": "stdout",
     "output_type": "stream",
     "text": [
      "73.14285714285714\n"
     ]
    }
   ],
   "source": [
    "# среднее арифметическое\n",
    "mean_wages = sum(wages)/len(wages)\n",
    "print(mean_wages)"
   ]
  },
  {
   "cell_type": "code",
   "execution_count": 3,
   "metadata": {},
   "outputs": [
    {
     "name": "stdout",
     "output_type": "stream",
     "text": [
      "44836.571428571435\n"
     ]
    }
   ],
   "source": [
    "# смещённую и несмещённую оценки дисперсии\n",
    "wages_els_mmean_sqr_sum = 0\n",
    "for i in range(len(wages)):\n",
    "    el_mmean_sqr = (wages[i] - mean_wages)**2\n",
    "    wages_els_mmean_sqr_sum += el_mmean_sqr\n",
    "print(wages_els_mmean_sqr_sum)"
   ]
  },
  {
   "cell_type": "code",
   "execution_count": 4,
   "metadata": {},
   "outputs": [
    {
     "name": "stdout",
     "output_type": "stream",
     "text": [
      "2135.074829931973\n"
     ]
    }
   ],
   "source": [
    "# смещённая оценка дисперсии\n",
    "vars_wages = wages_els_mmean_sqr_sum / len(wages)\n",
    "print(vars_wages)"
   ]
  },
  {
   "cell_type": "code",
   "execution_count": 5,
   "metadata": {},
   "outputs": [
    {
     "name": "stdout",
     "output_type": "stream",
     "text": [
      "2241.8285714285716\n"
     ]
    }
   ],
   "source": [
    "# несмещённая оценка дисперсии\n",
    "varn_wages = wages_els_mmean_sqr_sum / (len(wages) - 1)\n",
    "print(varn_wages)"
   ]
  },
  {
   "cell_type": "code",
   "execution_count": 6,
   "metadata": {},
   "outputs": [
    {
     "name": "stdout",
     "output_type": "stream",
     "text": [
      "46.20686994302874\n"
     ]
    }
   ],
   "source": [
    "# среднее квадратичное отклонение (смещённоe)\n",
    "print((vars_wages)**(1/2))"
   ]
  },
  {
   "cell_type": "code",
   "execution_count": 7,
   "metadata": {},
   "outputs": [
    {
     "name": "stdout",
     "output_type": "stream",
     "text": [
      "47.34795213553139\n"
     ]
    }
   ],
   "source": [
    "# среднее квадратичное отклонение (несмещённоe)\n",
    "print((varn_wages)**(1/2))"
   ]
  },
  {
   "cell_type": "code",
   "execution_count": 8,
   "metadata": {},
   "outputs": [],
   "source": [
    "# Значения с использованием библиотек:\n",
    "import numpy as np\n",
    "import pandas as pd"
   ]
  },
  {
   "cell_type": "code",
   "execution_count": 9,
   "metadata": {},
   "outputs": [
    {
     "name": "stdout",
     "output_type": "stream",
     "text": [
      "73.14285714285714\n",
      "2135.074829931973\n",
      "2241.8285714285716\n",
      "46.20686994302874\n",
      "47.34795213553139\n"
     ]
    }
   ],
   "source": [
    "df = pd.DataFrame({'wages': wages})\n",
    "# среднее арифметическое\n",
    "print(df['wages'].mean())\n",
    "# смещённая оценка дисперсии\n",
    "print(df['wages'].var(ddof=0))\n",
    "# несмещённая оценка дисперсии\n",
    "print(df['wages'].var(ddof=1))\n",
    "# среднее квадратичное отклонение (смещённоe)\n",
    "print(df['wages'].std(ddof=0))\n",
    "# среднее квадратичное отклонение (несмещённоe)\n",
    "print(df['wages'].std(ddof=1))"
   ]
  },
  {
   "cell_type": "markdown",
   "metadata": {},
   "source": [
    "Задача 2\n",
    "\n",
    "Для выборки из задачи 1 найти (также без использования библиотек):\n",
    "1. медиану, первый и третий квартили, интерквартильное расстояние,\n",
    "2. выборсы в выборке (используя для этого метод как при построении \"усов\" из boxplot).\n",
    "\n",
    "Возможные неоднозначности в вычислении квантилей можно разрешать любым способом."
   ]
  },
  {
   "cell_type": "code",
   "execution_count": 10,
   "metadata": {},
   "outputs": [
    {
     "name": "stdout",
     "output_type": "stream",
     "text": [
      "[17, 24, 25, 30, 33, 45, 55, 57, 65, 65, 70, 75, 75, 77, 80, 84, 89, 90, 100, 150, 230]\n",
      "21\n"
     ]
    }
   ],
   "source": [
    "wages_sorted = sorted(wages)\n",
    "print(wages_sorted)\n",
    "print(len(wages))"
   ]
  },
  {
   "cell_type": "code",
   "execution_count": 11,
   "metadata": {},
   "outputs": [
    {
     "name": "stdout",
     "output_type": "stream",
     "text": [
      "70\n"
     ]
    }
   ],
   "source": [
    "# медиана\n",
    "print(wages_sorted[int(len(wages)/2)]) # нумерация индексов с нуля, нужен (21+1)/2 = 11ый элемент, т.е., с индексом 10 "
   ]
  },
  {
   "cell_type": "code",
   "execution_count": 12,
   "metadata": {},
   "outputs": [
    {
     "name": "stdout",
     "output_type": "stream",
     "text": [
      "45\n"
     ]
    }
   ],
   "source": [
    "# первый квартиль\n",
    "q1 = wages_sorted[int(len(wages)/4)]\n",
    "print(q1)"
   ]
  },
  {
   "cell_type": "code",
   "execution_count": 13,
   "metadata": {},
   "outputs": [
    {
     "name": "stdout",
     "output_type": "stream",
     "text": [
      "84\n"
     ]
    }
   ],
   "source": [
    "# третий квартиль\n",
    "q3 = wages_sorted[int(len(wages)*3/4)]\n",
    "print(q3)"
   ]
  },
  {
   "cell_type": "code",
   "execution_count": 14,
   "metadata": {},
   "outputs": [
    {
     "name": "stdout",
     "output_type": "stream",
     "text": [
      "[45, 84]\n"
     ]
    }
   ],
   "source": [
    "# интерквартильное расстояние - это отрезок между первым и третьим квартилями:\n",
    "print([q1, q3])"
   ]
  },
  {
   "cell_type": "code",
   "execution_count": 15,
   "metadata": {},
   "outputs": [
    {
     "name": "stdout",
     "output_type": "stream",
     "text": [
      "Выброс: сумма 230 с индексом 11\n",
      "Выброс: сумма 150 с индексом 20\n"
     ]
    }
   ],
   "source": [
    "# выборсы в выборке\n",
    "iqr = q3 - q1\n",
    "boxplot_range_low = q1 - 1.5 * iqr \n",
    "boxplot_range_high = q3 + 1.5 * iqr\n",
    "for i in range(len(wages)):\n",
    "    if wages[i] < boxplot_range_low or wages[i] > boxplot_range_high:\n",
    "        print(f'Выброс: сумма {wages[i]} с индексом {i}')"
   ]
  },
  {
   "cell_type": "code",
   "execution_count": 16,
   "metadata": {},
   "outputs": [
    {
     "name": "stdout",
     "output_type": "stream",
     "text": [
      "0.25    45.0\n",
      "0.50    70.0\n",
      "0.75    84.0\n",
      "Name: wages, dtype: float64\n",
      "[45. 84.]\n"
     ]
    }
   ],
   "source": [
    "# Значения с использованием библиотек:\n",
    "# медиана, первый квартиль, третий квартиль\n",
    "print(df['wages'].quantile([0.25, 0.5, 0.75]))\n",
    "# интерквартильное расстояние\n",
    "print(np.quantile(wages, [0.25, 0.75]))"
   ]
  },
  {
   "cell_type": "code",
   "execution_count": 17,
   "metadata": {},
   "outputs": [
    {
     "name": "stdout",
     "output_type": "stream",
     "text": [
      "    wages\n",
      "11    230\n",
      "20    150\n"
     ]
    }
   ],
   "source": [
    "# выборсы в выборке\n",
    "q1 = df['wages'].quantile(0.25)\n",
    "q3 = df['wages'].quantile(0.75)\n",
    "iqr = q3 - q1\n",
    "boxplot_range = (q1 - 1.5 * iqr, q3 + 1.5 * iqr)\n",
    "outliers = df.loc[(df['wages'] < boxplot_range[0]) | (df['wages'] > boxplot_range[1])]\n",
    "print(outliers)"
   ]
  },
  {
   "cell_type": "markdown",
   "metadata": {},
   "source": [
    "Задача 3\n",
    "\n",
    "В университет на факультеты A и B поступило равное количество студентов, а на факультет C студентов поступило столько же, сколько на A и B вместе. Вероятность того, что студент факультета A сдаст первую сессию, равна 0.8. Для студента факультета B эта вероятность равна 0.7, а для студента факультета C - 0.9. Студент сдал первую сессию. Какова вероятность, что он учится: a) на факультете A? б) на факультете B? в) на факультете C?\n",
    "\n",
    "Замечание: да, эта задача не на тему описательных статистик, но тема важная, и её стоит иногда освежать в памяти."
   ]
  },
  {
   "cell_type": "code",
   "execution_count": 18,
   "metadata": {},
   "outputs": [
    {
     "name": "stdout",
     "output_type": "stream",
     "text": [
      "0.825\n"
     ]
    }
   ],
   "source": [
    "# Если на факультеты A и B поступило равное количество студентов, \n",
    "# а на факультет C студентов поступило столько же, сколько на A и B,\n",
    "# то на А и В учится по 1/4 всех студентов (0.25), а на С 1/2 (0/5).\n",
    "# Чтобы оценить безусловную вероятность сдачи первой сессии, воспользуемся формулой полной вероятности:\n",
    "P = 0.25*0.8 + 0.25*0.7 + 0.5*0.9\n",
    "print(P)"
   ]
  },
  {
   "cell_type": "code",
   "execution_count": 19,
   "metadata": {},
   "outputs": [
    {
     "name": "stdout",
     "output_type": "stream",
     "text": [
      "0.24242424242424246\n"
     ]
    }
   ],
   "source": [
    "# По формуле Байеса:\n",
    "# a) вероятность, что студент учится на факультете A:\n",
    "PA = 0.25*0.8/0.825\n",
    "print(PA)"
   ]
  },
  {
   "cell_type": "code",
   "execution_count": 20,
   "metadata": {},
   "outputs": [
    {
     "name": "stdout",
     "output_type": "stream",
     "text": [
      "0.21212121212121213\n"
     ]
    }
   ],
   "source": [
    "# б) вероятность, что студент учится на факультете В:\n",
    "PB = 0.25*0.7/0.825\n",
    "print(PB)"
   ]
  },
  {
   "cell_type": "code",
   "execution_count": 21,
   "metadata": {},
   "outputs": [
    {
     "name": "stdout",
     "output_type": "stream",
     "text": [
      "0.5454545454545455\n"
     ]
    }
   ],
   "source": [
    "# в) вероятность, что студент учится на факультете С:\n",
    "PC = 0.5*0.9/0.825\n",
    "print(PC)"
   ]
  },
  {
   "cell_type": "code",
   "execution_count": 22,
   "metadata": {},
   "outputs": [
    {
     "name": "stdout",
     "output_type": "stream",
     "text": [
      "1.0\n"
     ]
    }
   ],
   "source": [
    "print(PA+PB+PC)"
   ]
  },
  {
   "cell_type": "markdown",
   "metadata": {},
   "source": [
    "Ответ: вероятность, что студент учится: a) на факультете A: \n",
    "0.24242 б) на факультете B: 0.21212 в) на факультете C: 0.54545"
   ]
  }
 ],
 "metadata": {
  "kernelspec": {
   "display_name": "Python 3",
   "language": "python",
   "name": "python3"
  },
  "language_info": {
   "codemirror_mode": {
    "name": "ipython",
    "version": 3
   },
   "file_extension": ".py",
   "mimetype": "text/x-python",
   "name": "python",
   "nbconvert_exporter": "python",
   "pygments_lexer": "ipython3",
   "version": "3.7.3"
  }
 },
 "nbformat": 4,
 "nbformat_minor": 2
}
