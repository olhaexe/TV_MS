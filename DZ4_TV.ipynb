{
 "cells": [
  {
   "cell_type": "markdown",
   "metadata": {},
   "source": [
    "# Урок 4\n",
    "Непрерывные случайные величины. Функция распределения и плотность распределения вероятностей. Равномерное и нормальное распределение. Центральная предельная теорема\n",
    "Домашнее задание"
   ]
  },
  {
   "cell_type": "markdown",
   "metadata": {},
   "source": [
    "Задача 1\n",
    "\n",
    "О непрерывной равномерно распределённой случайной величине B известно, что её дисперсия равна 0.2. Можно ли найти правую границу величины B и её среднее значение зная, что левая граница равна 0.5? Если да, найдите их."
   ]
  },
  {
   "cell_type": "code",
   "execution_count": 1,
   "metadata": {},
   "outputs": [],
   "source": [
    "import pandas as pd\n",
    "import numpy as np\n",
    "import seaborn as sns\n",
    "from matplotlib import pyplot as plt\n",
    "from scipy import stats"
   ]
  },
  {
   "cell_type": "code",
   "execution_count": 2,
   "metadata": {},
   "outputs": [
    {
     "name": "stdout",
     "output_type": "stream",
     "text": [
      "Правая граница b = 2.049193338482967\n"
     ]
    }
   ],
   "source": [
    "# Непрерывная случайная величина X имеет равномерное распределение на отрезке [a,b], если её плотность внутри этого \n",
    "# отрезка постоянна, а вне этого отрезка равна 0. Математическое ожидание и дисперсия равномерного распределения: \n",
    "\n",
    "# 𝑀(𝑋)= (𝑎+𝑏)/2, 𝐷(𝑋)=(𝑏−𝑎)**2/12\n",
    "\n",
    "# Если левая граница a = 0.5, а дисперсия D(X) = 0.2:\n",
    "# 0.2 = (b - 0.5)**2/12. Найдем b:\n",
    "# 2.4 = (b - 0.5)**2\n",
    "b = np.sqrt(2.4) + 0.5  # поскольку искомая граница правая, берем положительное значение корня\n",
    "print(f'Правая граница b = {b}')"
   ]
  },
  {
   "cell_type": "code",
   "execution_count": 3,
   "metadata": {},
   "outputs": [
    {
     "name": "stdout",
     "output_type": "stream",
     "text": [
      "Среднее значение: 1.2745966692414834\n"
     ]
    }
   ],
   "source": [
    "# Среднее значение соответствует математическому ожиданию: \n",
    "M = (0.5 + b)/2 \n",
    "print(f'Среднее значение: {M}')"
   ]
  },
  {
   "cell_type": "markdown",
   "metadata": {},
   "source": [
    "Задача 2\n",
    "\n",
    "Коробки с шоколадом упаковываются автоматически. Их средняя масса равна 1.06 кг. Известно, что 5% коробок имеют массу, меньшую 1 кг. Найдите: а) среднее квадратическое отклонение массы коробки, б) процент коробок, имеющих массу больше 1.1 кг.\n",
    "\n",
    "Подсказка. Найдите такое значение scale, для которого значение cdf(x=1, loc=1.06, scale=scale) близко к 0.05. Точности 0.0001 будет достаточно."
   ]
  },
  {
   "cell_type": "code",
   "execution_count": 4,
   "metadata": {},
   "outputs": [
    {
     "name": "stdout",
     "output_type": "stream",
     "text": [
      "Среднее квадратическое отклонение массы коробки: 0.03647603647507295\n"
     ]
    }
   ],
   "source": [
    "# а) среднее квадратическое отклонение массы коробки:\n",
    "for scale in np.linspace(0.000001, 1, 999999):\n",
    "    s = stats.norm.cdf(x=1, loc=1.06, scale=scale)\n",
    "    if s > 0.04999 and s < 0.05001:\n",
    "        print(f'Среднее квадратическое отклонение массы коробки: {scale}')\n",
    "        break"
   ]
  },
  {
   "cell_type": "code",
   "execution_count": 5,
   "metadata": {},
   "outputs": [
    {
     "name": "stdout",
     "output_type": "stream",
     "text": [
      "Процент коробок, имеющих массу больше 1.1 кг: 13.64058753148396 %\n"
     ]
    }
   ],
   "source": [
    "# б) процент коробок, имеющих массу больше 1.1 кг:\n",
    "# P(1.1 < X < +бесконечность)\n",
    "p = (stats.norm.cdf(x=float('inf'), loc=1.06, scale=scale) - stats.norm.cdf(x=1.1, loc=1.06, scale=scale))\n",
    "print(f'Процент коробок, имеющих массу больше 1.1 кг: {p*100} %')"
   ]
  },
  {
   "cell_type": "markdown",
   "metadata": {},
   "source": [
    "Задача 3\n",
    "\n",
    "Коробка содержит 30 конфет. Известно, что масса каждой конфеты распределена равномерно в промежутке от 12 до 14 граммов. Используя центральную предельную теорему, найти вероятность, что масса всей коробки будет: а) меньше 390 граммов, б) больше 395 граммов, в) от 380 до 400 граммов.\n",
    "\n",
    "Массой самой коробки можно пренебречь."
   ]
  },
  {
   "cell_type": "code",
   "execution_count": 6,
   "metadata": {},
   "outputs": [],
   "source": [
    "a = 12\n",
    "b = 14\n",
    "n = 30\n",
    "mn = ((a + b) / 2)*n\n",
    "dn = (((b - a) ** 2) / 12)*n\n",
    "sc = np.sqrt(dn)"
   ]
  },
  {
   "cell_type": "code",
   "execution_count": 7,
   "metadata": {},
   "outputs": [
    {
     "name": "stdout",
     "output_type": "stream",
     "text": [
      "Вероятность, что масса всей коробки будет меньше 390 граммов: 0.5\n"
     ]
    }
   ],
   "source": [
    "# Найти вероятность, что масса всей коробки будет: \n",
    "# а) меньше 390 граммов: P(-бесконечность < X < 390)\n",
    "pa = stats.norm.cdf(x=390, loc=mn, scale=sc) - stats.norm.cdf(x=float('-inf'), loc=mn, scale=sc)\n",
    "print(f'Вероятность, что масса всей коробки будет меньше 390 граммов: {pa}')"
   ]
  },
  {
   "cell_type": "code",
   "execution_count": 8,
   "metadata": {},
   "outputs": [
    {
     "name": "stdout",
     "output_type": "stream",
     "text": [
      "Вероятность, что масса всей коробки будет больше 395 граммов: 0.056923149003329065\n"
     ]
    }
   ],
   "source": [
    "# Найти вероятность, что масса всей коробки будет: \n",
    "# б) больше 395 граммов: P(395 < X < +бесконечность)\n",
    "pb = stats.norm.cdf(x=float('inf'), loc=mn, scale=sc) - stats.norm.cdf(x=395, loc=mn, scale=sc)\n",
    "print(f'Вероятность, что масса всей коробки будет больше 395 граммов: {pb}')"
   ]
  },
  {
   "cell_type": "code",
   "execution_count": 9,
   "metadata": {},
   "outputs": [
    {
     "name": "stdout",
     "output_type": "stream",
     "text": [
      "Вероятность, что масса всей коробки будет от 380 до 400 граммов: 0.9984345977419975\n"
     ]
    }
   ],
   "source": [
    "# Найти вероятность, что масса всей коробки будет: \n",
    "# в) от 380 до 400 граммов: P(380 <= X <= 400)\n",
    "pc = stats.norm.cdf(x=400, loc=mn, scale=sc) - stats.norm.cdf(x=380, loc=mn, scale=sc)\n",
    "print(f'Вероятность, что масса всей коробки будет от 380 до 400 граммов: {pc}')"
   ]
  },
  {
   "cell_type": "markdown",
   "metadata": {},
   "source": [
    "Задача 4 (на подумать)\n",
    "\n",
    "Каким образом связаны между собой понятие квантиля и правила двух и трёх сигм?\n",
    "\n",
    "Данное задание - на подумать, оформлять его не обязательно. Этот вопрос мы обсудим в начале следующего занятия."
   ]
  },
  {
   "cell_type": "code",
   "execution_count": null,
   "metadata": {},
   "outputs": [],
   "source": [
    "# Получается, что две сигмы дают 0.95 квантиль, а три - 0.997 квантиль."
   ]
  },
  {
   "cell_type": "code",
   "execution_count": null,
   "metadata": {},
   "outputs": [],
   "source": []
  }
 ],
 "metadata": {
  "kernelspec": {
   "display_name": "Python 3",
   "language": "python",
   "name": "python3"
  },
  "language_info": {
   "codemirror_mode": {
    "name": "ipython",
    "version": 3
   },
   "file_extension": ".py",
   "mimetype": "text/x-python",
   "name": "python",
   "nbconvert_exporter": "python",
   "pygments_lexer": "ipython3",
   "version": "3.7.3"
  }
 },
 "nbformat": 4,
 "nbformat_minor": 2
}
