{
 "cells": [
  {
   "cell_type": "markdown",
   "metadata": {},
   "source": [
    "Урок 2\n",
    "Дискретные случайные величины. Закон распределения вероятностей. Биномиальный закон распределения. Распределение Пуассона\n",
    "Домашнее задание"
   ]
  },
  {
   "cell_type": "markdown",
   "metadata": {},
   "source": [
    "Задача 1\n",
    "\n",
    "Контрольная работа состоит из пяти вопросов. На каждый вопрос приведено четыре варианта ответа, один из которых правильный. Составьте закон распределения числа правильных ответов при простом угадывании. Найдите M(X), D(X)."
   ]
  },
  {
   "cell_type": "code",
   "execution_count": 2,
   "metadata": {},
   "outputs": [],
   "source": [
    "import numpy as np\n",
    "def combinations(n: int, k: int) -> int:\n",
    "    \"\"\"Число сочетаний\"\"\"\n",
    "    return np.math.factorial(n) / (np.math.factorial(k) * np.math.factorial(n - k))"
   ]
  },
  {
   "cell_type": "code",
   "execution_count": 3,
   "metadata": {},
   "outputs": [
    {
     "name": "stdout",
     "output_type": "stream",
     "text": [
      "1.0\n"
     ]
    }
   ],
   "source": [
    "# Пусть X - дискретная случайная величина, равная числу правильных ответов. \n",
    "# Она распределена по биномиальному закону с параметрами n = 5 (число вопросов),\n",
    "# p = 1/4 (вероятность угадать ответ), поэтому вероятности вычисляются по формуле Бернулли: \n",
    "x_values = np.arange(6)\n",
    "x0 = combinations(5, 0)*((3/4)**5) #= 243/1024\n",
    "x1 = combinations(5, 1)*((3/4)**4)*(1/4) #= 405/1024 \n",
    "x2 = combinations(5, 2)*((3/4)**3)*((1/4)**2) #= 270/1024\n",
    "x3 = combinations(5, 3)*((3/4)**2)*((1/4)**3) #= 90/1024\n",
    "x4 = combinations(5, 4)*(3/4)*((1/4)**4) #= 15/1024\n",
    "x5 = combinations(5, 5)*((1/4)**5) #= 1/1024\n",
    "# Проверим:\n",
    "print((243+405+270+90+15+1)/1024)"
   ]
  },
  {
   "cell_type": "code",
   "execution_count": 4,
   "metadata": {},
   "outputs": [
    {
     "name": "stdout",
     "output_type": "stream",
     "text": [
      "1.25\n"
     ]
    }
   ],
   "source": [
    "# Найдем M(X):\n",
    "m = 0 + 405/1024 + 2*(270/1024) + 3*(90/1024) + 4*(15/1024) + 5/1024\n",
    "print(m)"
   ]
  },
  {
   "cell_type": "code",
   "execution_count": 5,
   "metadata": {},
   "outputs": [
    {
     "name": "stdout",
     "output_type": "stream",
     "text": [
      "[-1.25 -0.25  0.75  1.75  2.75  3.75]\n",
      "[ 1.5625  0.0625  0.5625  3.0625  7.5625 14.0625]\n",
      "0.9375\n"
     ]
    }
   ],
   "source": [
    "# Найдем D(X):\n",
    "y_values = x_values - m\n",
    "print(y_values)\n",
    "#Y = [-1.25, -0.25, 0.75, 1.75, 2.75, 3.75]\n",
    "z_values = y_values ** 2\n",
    "print(z_values)\n",
    "#Z = [1.5625, 0.0625, 0.5625, 3.0625, 7.5625, 14.0625] \n",
    "d = z_values[0]*x0 + z_values[1]*x1 + z_values[2]*x2 + z_values[3]*x3+ z_values[4]*x4 + z_values[5]*x5\n",
    "print(d)"
   ]
  },
  {
   "cell_type": "markdown",
   "metadata": {},
   "source": [
    "Ответ: закон распределения числа правильных ответов при простом угадывании: \n",
    "{0: 243/1024, 1: 405/1024, 2: 270/1024, 3: 90/1024, 4: 15/1024, 5: 1/1024},\n",
    "    M(X) = 1,25,\n",
    "    D(X) = 0,9375"
   ]
  },
  {
   "cell_type": "markdown",
   "metadata": {},
   "source": [
    "Задача 2\n",
    "\n",
    "Пользователь получает в среднем 10 писем со спамом на свой почтовый ящик за сутки. Найти число N, такое, что с вероятностью 0.95 пользователь получит не более N писем со спамом за текущий день."
   ]
  },
  {
   "cell_type": "code",
   "execution_count": 6,
   "metadata": {},
   "outputs": [],
   "source": [
    "def poisson_proba(k: int, lambda_: float) -> float:\n",
    "    \"\"\"Формула Пуассона\"\"\"\n",
    "    return (lambda_ ** k) * (np.exp(-lambda_)) / np.math.factorial(k)"
   ]
  },
  {
   "cell_type": "code",
   "execution_count": 7,
   "metadata": {},
   "outputs": [],
   "source": [
    "# Мы знаем результат - суммарную вероятность того, что пользователь получит от 0 до N писем, и среднее значение:\n",
    "lambda_ = 10"
   ]
  },
  {
   "cell_type": "code",
   "execution_count": 8,
   "metadata": {},
   "outputs": [
    {
     "name": "stdout",
     "output_type": "stream",
     "text": [
      "15\n"
     ]
    }
   ],
   "source": [
    "# Так как количество писем может быть только натуральным числом, можем найти минимальное значение, при котором \n",
    "# суммарная вероятность получить писем не более этого количества будет 0,95: \n",
    "for n in range(100):\n",
    "    p = sum(poisson_proba(k=i, lambda_=lambda_) for i in range(n+1))\n",
    "    #print(f'Вероятность получить не более {n} писем равна {p}')\n",
    "    if p >= 0.95:\n",
    "        print(n)\n",
    "        break"
   ]
  },
  {
   "cell_type": "markdown",
   "metadata": {},
   "source": [
    "Ответ: с вероятностью 0.95 пользователь получит не более 15 писем со спамом за текущий день."
   ]
  },
  {
   "cell_type": "markdown",
   "metadata": {},
   "source": [
    "Задача 3\n",
    "\n",
    "Производятся выстрелы по мишени. Вероятность попадания в мишень при одном выстреле равна 0.01. Сколько выстрелов нужно сделать чтобы быть уверенным с вероятностью 0.9, что хотя бы 6 раз будет совершено попадание?\n",
    "\n",
    "Подсказка. Здесь предстоит немножко покодить."
   ]
  },
  {
   "cell_type": "code",
   "execution_count": 16,
   "metadata": {},
   "outputs": [],
   "source": [
    "def combinations(n: int, k: int) -> int:\n",
    "    \"\"\"Число сочетаний\"\"\"\n",
    "    return np.math.factorial(n) / (np.math.factorial(k) * np.math.factorial(n - k))"
   ]
  },
  {
   "cell_type": "code",
   "execution_count": 24,
   "metadata": {},
   "outputs": [
    {
     "name": "stdout",
     "output_type": "stream",
     "text": [
      "926\n"
     ]
    }
   ],
   "source": [
    "# применим формулу Бернулли:\n",
    "# p = 0.01\n",
    "# k = 6\n",
    "# P(X>=6) = 0.9  (хотя бы 6 раз - значит, 6 и больше, cоответственно, P(X<6) = 0.1)\n",
    "# найдем значение n:\n",
    "for n in range(6, 2000):\n",
    "    pq = sum(combinations(n, k)*(0.01**k)*(0.99**(n-k)) for k in range(0, 6))\n",
    "    if pq <= 0.1:\n",
    "        print(n)\n",
    "        break"
   ]
  },
  {
   "cell_type": "markdown",
   "metadata": {},
   "source": [
    "Ответ:  чтобы быть уверенным с вероятностью 0.9, что хотя бы 6 раз будет совершено попадание, нужно выстрелить 926 раз."
   ]
  },
  {
   "cell_type": "code",
   "execution_count": null,
   "metadata": {},
   "outputs": [],
   "source": []
  }
 ],
 "metadata": {
  "kernelspec": {
   "display_name": "Python 3",
   "language": "python",
   "name": "python3"
  },
  "language_info": {
   "codemirror_mode": {
    "name": "ipython",
    "version": 3
   },
   "file_extension": ".py",
   "mimetype": "text/x-python",
   "name": "python",
   "nbconvert_exporter": "python",
   "pygments_lexer": "ipython3",
   "version": "3.7.3"
  }
 },
 "nbformat": 4,
 "nbformat_minor": 2
}
